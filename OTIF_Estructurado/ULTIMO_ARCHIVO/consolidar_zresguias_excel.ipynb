{
 "cells": [
  {
   "cell_type": "code",
   "execution_count": 1,
   "id": "c999d7c5",
   "metadata": {},
   "outputs": [
    {
     "name": "stdout",
     "output_type": "stream",
     "text": [
      "Archivo guardado en: C:\\Users\\ELOPEZ21334\\OneDrive - Distribuidora La Florida S.A\\Planeamientos de Rutas - 1. Dashboard Planeamiento\\ZRESGUIAS\\filtrado_ZRESGUIAS.xlsx\n"
     ]
    }
   ],
   "source": [
    "import pandas as pd\n",
    "import os\n",
    "\n",
    "# Ruta del archivo original\n",
    "ruta_archivo = r\"C:\\Users\\ELOPEZ21334\\OneDrive - Distribuidora La Florida S.A\\Planeamientos de Rutas - 1. Dashboard Planeamiento\\ZRESGUIAS\\ZRESGUIAS.xlsx\"  # ← Cambia esto por la ruta real\n",
    "\n",
    "# Nombre de la hoja que se va a conservar\n",
    "hoja_objetivo = \"PEGAR\"\n",
    "\n",
    "# Cargar solo la hoja PEGAR\n",
    "df = pd.read_excel(ruta_archivo, sheet_name=hoja_objetivo)\n",
    "\n",
    "# Asegúrate de que la columna de fecha esté en formato datetime\n",
    "# Reemplaza 'fecha' por el nombre real de la columna que contiene la fecha\n",
    "df['Fecha'] = pd.to_datetime(df['Fecha'], errors='coerce')\n",
    "\n",
    "# Filtrar solo los datos del año actual (2025)\n",
    "df_filtrado = df[df['Fecha'].dt.year == 2025]\n",
    "\n",
    "# Crear nuevo nombre de archivo\n",
    "nombre_archivo = os.path.basename(ruta_archivo)\n",
    "nombre_nuevo = f\"filtrado_{nombre_archivo}\"\n",
    "ruta_nueva = os.path.join(os.path.dirname(ruta_archivo), nombre_nuevo)\n",
    "\n",
    "# Guardar el resultado en un nuevo archivo Excel\n",
    "df_filtrado.to_excel(ruta_nueva, index=False)\n",
    "\n",
    "print(f\"Archivo guardado en: {ruta_nueva}\")\n"
   ]
  },
  {
   "cell_type": "code",
   "execution_count": 2,
   "id": "d6d3271b",
   "metadata": {},
   "outputs": [
    {
     "name": "stdout",
     "output_type": "stream",
     "text": [
      "Últimas fechas:\n",
      "1026494   2025-09-24\n",
      "1026495   2025-09-24\n",
      "1026496   2025-09-24\n",
      "1026497   2025-09-24\n",
      "1026498   2025-09-24\n",
      "Name: Fecha, dtype: datetime64[ns]\n"
     ]
    }
   ],
   "source": [
    "\n",
    "ultimas_fechas = df_filtrado['Fecha'].tail()\n",
    "print(\"Últimas fechas:\")\n",
    "print(ultimas_fechas)\n"
   ]
  }
 ],
 "metadata": {
  "kernelspec": {
   "display_name": "base",
   "language": "python",
   "name": "python3"
  },
  "language_info": {
   "codemirror_mode": {
    "name": "ipython",
    "version": 3
   },
   "file_extension": ".py",
   "mimetype": "text/x-python",
   "name": "python",
   "nbconvert_exporter": "python",
   "pygments_lexer": "ipython3",
   "version": "3.12.7"
  }
 },
 "nbformat": 4,
 "nbformat_minor": 5
}
