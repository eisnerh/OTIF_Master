{
 "cells": [
  {
   "cell_type": "code",
   "execution_count": 1,
   "id": "c999d7c5",
   "metadata": {},
   "outputs": [
    {
     "name": "stdout",
     "output_type": "stream",
     "text": [
      "Archivo guardado en: C:\\Users\\ELOPEZ21334\\OneDrive - Distribuidora La Florida S.A\\Planeamientos de Rutas - 1. Dashboard Planeamiento\\ZRESGUIAS\\filtrado_ZRESGUIAS.xlsx\n"
     ]
    }
   ],
   "source": [
    "import pandas as pd\n",
    "import os\n",
    "\n",
    "# Ruta del archivo original\n",
    "ruta_archivo = r\"C:\\Users\\ELOPEZ21334\\OneDrive - Distribuidora La Florida S.A\\Planeamientos de Rutas - 1. Dashboard Planeamiento\\ZRESGUIAS\\ZRESGUIAS.xlsx\"  # ← Cambia esto por la ruta real\n",
    "\n",
    "# Nombre de la hoja que se va a conservar\n",
    "hoja_objetivo = \"PEGAR\"\n",
    "\n",
    "# Cargar solo la hoja PEGAR\n",
    "df = pd.read_excel(ruta_archivo, sheet_name=hoja_objetivo)\n",
    "\n",
    "# Asegúrate de que la columna de fecha esté en formato datetime\n",
    "# Reemplaza 'fecha' por el nombre real de la columna que contiene la fecha\n",
    "df['Fecha'] = pd.to_datetime(df['Fecha'], errors='coerce')\n",
    "\n",
    "# Filtrar solo los datos del año actual (2025)\n",
    "df_filtrado = df[df['Fecha'].dt.year == 2025]\n",
    "\n",
    "# Crear nuevo nombre de archivo\n",
    "nombre_archivo = os.path.basename(ruta_archivo)\n",
    "nombre_nuevo = f\"filtrado_{nombre_archivo}\"\n",
    "ruta_nueva = os.path.join(os.path.dirname(ruta_archivo), nombre_nuevo)\n",
    "\n",
    "# Guardar el resultado en un nuevo archivo Excel\n",
    "df_filtrado.to_excel(ruta_nueva, index=False)\n",
    "\n",
    "print(f\"Archivo guardado en: {ruta_nueva}\")\n"
   ]
  },
  {
   "cell_type": "code",
   "execution_count": 4,
   "id": "ffdf8b99",
   "metadata": {},
   "outputs": [
    {
     "name": "stdout",
     "output_type": "stream",
     "text": [
      "        Zona  Ruta Dist         Guía Centro Tipo de Guía  Camión  Viaje  \\\n",
      "1019069  ZTP      603.0  860307180.0   CD08          CXC  CT0020    1.0   \n",
      "1019070  ZTP      603.0  860307180.0   CD08          CXC  CT0020    1.0   \n",
      "1019071  ZTP      603.0  860307180.0   CD08          CXC  CT0020    1.0   \n",
      "1019072  ZTP      603.0  860307180.0   CD08          CXC  CT0020    1.0   \n",
      "1019073  ZTP      603.0  860307180.0   CD08          CXC  CT0020    1.0   \n",
      "1019074  GUA      796.0  879605573.0   CD03          CXC    1576    1.0   \n",
      "1019075  GUA      796.0  879605573.0   CD03          CXC    1576    1.0   \n",
      "1019076  GUA      796.0  879605573.0   CD03          CXC    1576    1.0   \n",
      "1019077  GUA      796.0  879605573.0   CD03          CXC    1576    1.0   \n",
      "1019078  GUA      796.0  879605573.0   CD03          CXC    1576    1.0   \n",
      "\n",
      "         Ruta Vent      Cod.                Nombre del cliente  ... Capacidad  \\\n",
      "1019069      608.0  310844.0                       SUPER IGFER  ...       0.0   \n",
      "1019070      608.0  329113.0                        D.K. SUPER  ...       0.0   \n",
      "1019071      608.0  353039.0                       DK SUPER #2  ...       0.0   \n",
      "1019072      627.0   53080.0                      PALI ESPARZA  ...       0.0   \n",
      "1019073      627.0  319946.0                 MAXI PALI ESPARZA  ...       0.0   \n",
      "1019074      341.0  523454.0  CHICHARRONES Y PARRILLADA VINDAS  ...    8700.0   \n",
      "1019075      351.0   85771.0          BAR IMPERIAL EXPO POCOCI  ...    8700.0   \n",
      "1019076      351.0   85797.0                 WALTER SALON EXPO  ...    8700.0   \n",
      "1019077      351.0   91934.0                  EXPO BAR DARLING  ...    8700.0   \n",
      "1019078      351.0  525821.0        BAR IMPERIAL EXPO GUAPILES  ...    8700.0   \n",
      "\n",
      "        Vol. Carga Cajas RS Cajas Fisicas Cajas Equivalentes TIPO GUIA   \\\n",
      "1019069      480.0    19.63        27.750             29.765          8   \n",
      "1019070      480.0    54.97        81.208             89.954          8   \n",
      "1019071      480.0    57.30        75.958             96.455          8   \n",
      "1019072      480.0    31.51        39.792             47.914          8   \n",
      "1019073      480.0    45.84        58.333             71.606          8   \n",
      "1019074      480.0    10.08        23.000             18.999          8   \n",
      "1019075      480.0    17.50        30.000             30.000          8   \n",
      "1019076      480.0    43.80       100.000             80.000          8   \n",
      "1019077      480.0    40.87        90.000             78.572          8   \n",
      "1019078      480.0   108.84       209.000            205.714          8   \n",
      "\n",
      "              Clave  Cap. Real  Cam. Real  Clave Multivisita  \n",
      "1019069  45920603.0      480.0     CT0020       8.603072e+13  \n",
      "1019070  45920603.0      480.0     CT0020       8.603072e+13  \n",
      "1019071  45920603.0      480.0     CT0020       8.603072e+13  \n",
      "1019072  45920603.0      480.0     CT0020       8.603072e+13  \n",
      "1019073  45920603.0      480.0     CT0020       8.603072e+13  \n",
      "1019074  45921796.0      480.0       1576       8.796056e+13  \n",
      "1019075  45921796.0      480.0       1576       8.796056e+13  \n",
      "1019076  45921796.0      480.0       1576       8.796056e+13  \n",
      "1019077  45921796.0      480.0       1576       8.796056e+13  \n",
      "1019078  45921796.0      480.0       1576       8.796056e+13  \n",
      "\n",
      "[10 rows x 27 columns]\n"
     ]
    }
   ],
   "source": [
    "\n",
    "print(df_filtrado.tail(10)) "
   ]
  },
  {
   "cell_type": "code",
   "execution_count": 5,
   "id": "d6d3271b",
   "metadata": {},
   "outputs": [
    {
     "name": "stdout",
     "output_type": "stream",
     "text": [
      "Últimas fechas:\n",
      "1019074   2025-09-21\n",
      "1019075   2025-09-21\n",
      "1019076   2025-09-21\n",
      "1019077   2025-09-21\n",
      "1019078   2025-09-21\n",
      "Name: Fecha, dtype: datetime64[ns]\n"
     ]
    }
   ],
   "source": [
    "\n",
    "ultimas_fechas = df_filtrado['Fecha'].tail()\n",
    "print(\"Últimas fechas:\")\n",
    "print(ultimas_fechas)\n"
   ]
  }
 ],
 "metadata": {
  "kernelspec": {
   "display_name": "base",
   "language": "python",
   "name": "python3"
  },
  "language_info": {
   "codemirror_mode": {
    "name": "ipython",
    "version": 3
   },
   "file_extension": ".py",
   "mimetype": "text/x-python",
   "name": "python",
   "nbconvert_exporter": "python",
   "pygments_lexer": "ipython3",
   "version": "3.12.7"
  }
 },
 "nbformat": 4,
 "nbformat_minor": 5
}
